# Lists

# Consider a list (list = []). You can perform the following commands:
# insert i e: Insert integer e at position i.
# print: Print the list.
# remove e: Delete the first occurrence of integer e.
# append e: Insert integer e at the end of the list.
# sort: Sort the list.
# pop: Pop the last element from the list.
# reverse: Reverse the list.

# Initialize your list and read in the value of n followed by n lines of commands where each command will be of the types listed above.
# Iterate through each command in order and perform the corresponding operation on your list.

# Input Format
# The first line contains an integer, n, denoting the number of commands. 
# Each line i of the n subsequent lines contains one of the commands described above.

# Constraints
# The elements added to the list must be integers.

# Output Format
# For each command of type print, print the list on a new line.


# Enter your code here. Read input from STDIN. Print output to STDOUT


{
 "cells": [
  {
   "cell_type": "code",
   "execution_count": 1,
   "id": "10952ad8",
   "metadata": {},
   "outputs": [
    {
     "name": "stdout",
     "output_type": "stream",
     "text": [
      "12\n",
      "insert 0 5\n",
      "insert 1 10\n",
      "insert 0 6\n",
      "print\n",
      "[6, 5, 10]\n",
      "remove 6\n",
      "append 9\n",
      "append 1\n",
      "sort\n",
      "print\n",
      "[1, 5, 9, 10]\n",
      "pop\n",
      "reverse\n",
      "print\n",
      "[9, 5, 1]\n"
     ]
    }
   ],
   "source": [
    "def main(N):\n",
    "    i=0\n",
    "    a = []\n",
    "    b = []\n",
    "    c =[]\n",
    "    while(i< N):\n",
    "        a = input()\n",
    "        b =a.split()\n",
    "        if(b[0]) =='insert':\n",
    "            c.insert(int(b[1]), int(b[2]))\n",
    "            i=i+1\n",
    "        if (b[0]) =='append':\n",
    "            c.append(int(b[1]))\n",
    "            i=i+1\n",
    "        if(b[0] =='print'):\n",
    "            print(c)\n",
    "            i=i+1\n",
    "        if(b[0]) =='remove':\n",
    "            c.remove(int(b[1]))\n",
    "            i=i+1\n",
    "        if( b[0] =='pop'):\n",
    "            c.pop(-1)\n",
    "            i=i+1\n",
    "        if(b[0]) =='sort':\n",
    "            c.sort()\n",
    "            i=i+1\n",
    "        if(b[0]) =='reverse':\n",
    "            c.reverse()\n",
    "            i=i+1\n",
    "            \n",
    "            \n",
    "            \n",
    "\n",
    "\n",
    "if __name__ == '__main__':\n",
    "    N = int(input())\n",
    "    main(N);\n"
   ]
  },
  {
   "cell_type": "code",
   "execution_count": null,
   "id": "f6b41c81",
   "metadata": {},
   "outputs": [],
   "source": []
  }
 ],
 "metadata": {
  "kernelspec": {
   "display_name": "Python 3 (ipykernel)",
   "language": "python",
   "name": "python3"
  },
  "language_info": {
   "codemirror_mode": {
    "name": "ipython",
    "version": 3
   },
   "file_extension": ".py",
   "mimetype": "text/x-python",
   "name": "python",
   "nbconvert_exporter": "python",
   "pygments_lexer": "ipython3",
   "version": "3.9.12"
  }
 },
 "nbformat": 4,
 "nbformat_minor": 5
}
