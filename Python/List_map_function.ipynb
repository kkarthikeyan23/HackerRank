{
 "cells": [
  {
   "cell_type": "code",
   "execution_count": 1,
   "id": "326317fb",
   "metadata": {},
   "outputs": [
    {
     "name": "stdout",
     "output_type": "stream",
     "text": [
      "4\n",
      "45 56 87 87\n",
      "56\n"
     ]
    }
   ],
   "source": [
    "def main(arr):\n",
    "    a =[];\n",
    "    b= 0;\n",
    "    c =0;\n",
    "    d =0;\n",
    "    b = max(arr)\n",
    "    arr.sort()\n",
    "    for i in arr:\n",
    "        if i not in a:\n",
    "            a.append(i)\n",
    "    #print(a)\n",
    "    c = len(a)\n",
    "    #print(c)\n",
    "    d = a[c-2]\n",
    "    #print(b)\n",
    "    print(d)\n",
    "\n",
    "if __name__ == '__main__':\n",
    "    n = int(input())\n",
    "    arr = list(map(int, input().split()))\n",
    "    main(arr);"
   ]
  },
  {
   "cell_type": "code",
   "execution_count": null,
   "id": "d52191ae",
   "metadata": {},
   "outputs": [],
   "source": []
  }
 ],
 "metadata": {
  "kernelspec": {
   "display_name": "Python 3 (ipykernel)",
   "language": "python",
   "name": "python3"
  },
  "language_info": {
   "codemirror_mode": {
    "name": "ipython",
    "version": 3
   },
   "file_extension": ".py",
   "mimetype": "text/x-python",
   "name": "python",
   "nbconvert_exporter": "python",
   "pygments_lexer": "ipython3",
   "version": "3.9.12"
  }
 },
 "nbformat": 4,
 "nbformat_minor": 5
}
